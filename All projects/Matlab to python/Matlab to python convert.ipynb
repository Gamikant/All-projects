{
 "cells": [
  {
   "cell_type": "code",
   "execution_count": 1,
   "id": "1b55eb35",
   "metadata": {},
   "outputs": [
    {
     "name": "stdout",
     "output_type": "stream",
     "text": [
      "Requirement already satisfied: smop in c:\\users\\prana\\appdata\\local\\programs\\python\\python39\\lib\\site-packages (0.41)\n",
      "Requirement already satisfied: networkx in c:\\users\\prana\\appdata\\local\\programs\\python\\python39\\lib\\site-packages (from smop) (3.0)\n",
      "Requirement already satisfied: scipy in c:\\users\\prana\\appdata\\local\\programs\\python\\python39\\lib\\site-packages (from smop) (1.10.1)\n",
      "Requirement already satisfied: ply in c:\\users\\prana\\appdata\\local\\programs\\python\\python39\\lib\\site-packages (from smop) (3.11)\n",
      "Requirement already satisfied: numpy in c:\\users\\prana\\appdata\\local\\programs\\python\\python39\\lib\\site-packages (from smop) (1.24.1)\n",
      "\n",
      "[notice] A new release of pip available: 22.1.2 -> 23.1.2\n",
      "[notice] To update, run: python.exe -m pip install --upgrade pip\n"
     ]
    }
   ],
   "source": [
    "!pip install smop"
   ]
  },
  {
   "cell_type": "code",
   "execution_count": null,
   "id": "a61859ff",
   "metadata": {},
   "outputs": [],
   "source": []
  },
  {
   "cell_type": "code",
   "execution_count": null,
   "id": "fc2e255b",
   "metadata": {},
   "outputs": [],
   "source": []
  }
 ],
 "metadata": {
  "kernelspec": {
   "display_name": "Python 3 (ipykernel)",
   "language": "python",
   "name": "python3"
  },
  "language_info": {
   "codemirror_mode": {
    "name": "ipython",
    "version": 3
   },
   "file_extension": ".py",
   "mimetype": "text/x-python",
   "name": "python",
   "nbconvert_exporter": "python",
   "pygments_lexer": "ipython3",
   "version": "3.9.13"
  }
 },
 "nbformat": 4,
 "nbformat_minor": 5
}
