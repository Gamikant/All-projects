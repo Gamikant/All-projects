{
 "cells": [
  {
   "cell_type": "code",
   "execution_count": 6,
   "id": "12543d28",
   "metadata": {},
   "outputs": [
    {
     "name": "stdout",
     "output_type": "stream",
     "text": [
      "Collecting opencv-python\n",
      "  Downloading opencv_python-4.7.0.72-cp37-abi3-win_amd64.whl (38.2 MB)\n",
      "     ---------------------------------------- 38.2/38.2 MB 8.4 MB/s eta 0:00:00\n",
      "Requirement already satisfied: numpy>=1.17.3 in c:\\users\\prana\\appdata\\local\\programs\\python\\python39\\lib\\site-packages (from opencv-python) (1.24.1)\n",
      "Installing collected packages: opencv-python\n",
      "Successfully installed opencv-python-4.7.0.72\n",
      "\n",
      "[notice] A new release of pip available: 22.1.2 -> 23.0.1\n",
      "[notice] To update, run: python.exe -m pip install --upgrade pip\n",
      "Note: you may need to restart the kernel to use updated packages.\n"
     ]
    }
   ],
   "source": [
    "pip install opencv-python"
   ]
  },
  {
   "cell_type": "code",
   "execution_count": 1,
   "id": "83e62407",
   "metadata": {},
   "outputs": [],
   "source": [
    "import cv2\n",
    "import numpy as np\n",
    "import random\n",
    "import os\n",
    "\n",
    "dir_path = 'C:\\\\Users\\\\prana\\\\Downloads\\\\Old photo restoration files\\\\'\n",
    "\n",
    "for file_name in os.listdir(dir_path):\n",
    "    if file_name.endswith('.jpg'):\n",
    "        img = cv2.imread(os.path.join(dir_path, file_name))\n",
    "        noise = np.zeros(img.shape, np.uint8)\n",
    "        cv2.randn(noise, 0, random.randint(10, 50)) \n",
    "        img = cv2.add(img, noise)\n",
    "\n",
    "        height, width, channels = img.shape\n",
    "        for i in range(random.randint(5, 12)):  \n",
    "            x1, y1 = random.randint(0, width), random.randint(0, height)\n",
    "            x2, y2 = random.randint(0, width), random.randint(0, height)\n",
    "            thickness = random.randint(1, 5)  \n",
    "            cv2.line(img, (x1, y1), (x2, y2), (random.randint(0, 255), random.randint(0, 255), random.randint(0, 255)), thickness)\n",
    "    \n",
    "            color = random.randint(0, 50)\n",
    "            thickness_variation = random.randint(0, 2)\n",
    "            cv2.line(img, (x1, y1), (x2, y2), (170+color, 170+color, 170+color), thickness+thickness_variation)\n",
    "    \n",
    "        for i in range(random.randint(1, 40)): \n",
    "            x, y = random.randint(0, width), random.randint(0, height)\n",
    "            radius = random.randint(1, 5)  \n",
    "            color = (random.randint(0, 255), random.randint(0, 255), random.randint(0, 255))  \n",
    "            cv2.circle(img, (x, y), radius, color, -1)\n",
    "\n",
    "        i = random.randint(1,5)\n",
    "        scissor_cutout = cv2.imread(f'torn{i}.png')\n",
    "        scissor_cutout = cv2.resize(scissor_cutout, (width, height))\n",
    "        scissor_cutout_gray = cv2.cvtColor(scissor_cutout, cv2.COLOR_BGR2GRAY)\n",
    "        _, mask = cv2.threshold(scissor_cutout_gray, 10, 255, cv2.THRESH_BINARY)\n",
    "        mask_inv = cv2.bitwise_not(mask)\n",
    "\n",
    "        img_cutout = cv2.bitwise_and(img, img, mask=mask)\n",
    "\n",
    "        k = random.randint(1,9)\n",
    "        paper_texture = cv2.imread(f'C:\\\\Users\\\\prana\\\\Downloads\\\\Old photo restoration files\\\\Textures\\\\texture{k}.jpg')\n",
    "        paper_texture = cv2.resize(paper_texture, (width, height))\n",
    "        paper_texture_cutout = cv2.bitwise_and(paper_texture, paper_texture, mask=mask)\n",
    "        result = cv2.add(img_cutout, paper_texture_cutout)\n",
    "\n",
    "        torn_paper_bg = cv2.bitwise_and(paper_texture, paper_texture, mask=mask_inv)\n",
    "        result = cv2.add(result, torn_paper_bg)\n",
    "        new_file_name = file_name.replace('.jpg', '_damaged.jpg')\n",
    "        \n",
    "        cv2.imwrite(os.path.join(dir_path, new_file_name), result)"
   ]
  },
  {
   "cell_type": "code",
   "execution_count": null,
   "id": "369c45b1",
   "metadata": {},
   "outputs": [],
   "source": []
  }
 ],
 "metadata": {
  "kernelspec": {
   "display_name": "Python 3 (ipykernel)",
   "language": "python",
   "name": "python3"
  },
  "language_info": {
   "codemirror_mode": {
    "name": "ipython",
    "version": 3
   },
   "file_extension": ".py",
   "mimetype": "text/x-python",
   "name": "python",
   "nbconvert_exporter": "python",
   "pygments_lexer": "ipython3",
   "version": "3.9.13"
  }
 },
 "nbformat": 4,
 "nbformat_minor": 5
}
