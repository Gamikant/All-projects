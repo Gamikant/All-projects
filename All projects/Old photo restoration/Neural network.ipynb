{
 "cells": [
  {
   "cell_type": "code",
   "execution_count": null,
   "id": "16fc9756",
   "metadata": {},
   "outputs": [],
   "source": [
    "import tensorflow as tf\n",
    "import numpy as np\n",
    "import cv2\n",
    "import os\n",
    "\n",
    "# Define the neural network architecture\n",
    "def build_model(input_shape):\n",
    "    model = tf.keras.models.Sequential()\n",
    "    model.add(tf.keras.layers.Conv2D(32, kernel_size=(3,3), activation='relu', input_shape=input_shape))\n",
    "    model.add(tf.keras.layers.MaxPooling2D(pool_size=(2,2)))\n",
    "    model.add(tf.keras.layers.Conv2D(64, kernel_size=(3,3), activation='relu'))\n",
    "    model.add(tf.keras.layers.MaxPooling2D(pool_size=(2,2)))\n",
    "    model.add(tf.keras.layers.Conv2D(128, kernel_size=(3,3), activation='relu'))\n",
    "    model.add(tf.keras.layers.MaxPooling2D(pool_size=(2,2)))\n",
    "    model.add(tf.keras.layers.Flatten())\n",
    "    model.add(tf.keras.layers.Dense(256, activation='relu'))\n",
    "    model.add(tf.keras.layers.Dense(input_shape[0] * input_shape[1] * input_shape[2], activation='sigmoid'))\n",
    "    model.add(tf.keras.layers.Reshape((input_shape[0], input_shape[1], input_shape[2])))\n",
    "    return model\n",
    "\n",
    "# Load the training data\n",
    "def load_data(data_dir):\n",
    "    X_train = []\n",
    "    y_train = []\n",
    "    for filename in os.listdir(data_dir):\n",
    "        if filename.endswith(\".jpg\"):\n",
    "            img = cv2.imread(os.path.join(data_dir, filename))\n",
    "            X_train.append(img / 255.0)\n",
    "            img_damaged = cv2.imread(os.path.join(data_dir, filename.replace('.jpg', '_damaged.jpg')))\n",
    "            y_train.append(img_damaged / 255.0)\n",
    "    return np.array(X_train), np.array(y_train)\n",
    "\n",
    "# Train the neural network\n",
    "def train_model(X_train, y_train, model):\n",
    "    model.compile(optimizer='adam', loss='mean_squared_error')\n",
    "    model.fit(X_train, y_train, epochs=10, batch_size=32)\n",
    "\n",
    "# Load the data\n",
    "X_train, y_train = load_data('data')\n",
    "\n",
    "# Build the model\n",
    "model = build_model(X_train.shape[1:])\n",
    "\n",
    "# Train the model\n",
    "train_model(X_train, y_train, model)\n",
    "\n",
    "# Save the model\n",
    "model.save('restoration_model.h5')\n"
   ]
  },
  {
   "cell_type": "code",
   "execution_count": null,
   "id": "22ed50b9",
   "metadata": {},
   "outputs": [],
   "source": [
    "model = tf.keras.models.load_model('restoration_model.h5')\n",
    "\n",
    "# Load a damaged image\n",
    "img = cv2.imread('damaged_image.jpg')\n",
    "\n",
    "# Preprocess the image for the model\n",
    "img = cv2.resize(img, (256, 256))  # Resize the image to the size expected by the model\n",
    "img = img / 255.0  # Normalize the pixel values to be between 0 and 1\n",
    "\n",
    "# Make a prediction using the model\n",
    "restored_img = model.predict(tf.expand_dims(img, axis=0))[0]\n",
    "\n",
    "# Postprocess the restored image\n",
    "restored_img = restored_img * 255.0  # Denormalize the pixel values\n",
    "restored_img = cv2.resize(restored_img, (original_width, original_height))  # Resize the image to the original size\n",
    "\n",
    "# Save the restored image\n",
    "cv2.imwrite('restored_image.jpg', restored_img)"
   ]
  }
 ],
 "metadata": {
  "kernelspec": {
   "display_name": "Python 3 (ipykernel)",
   "language": "python",
   "name": "python3"
  },
  "language_info": {
   "codemirror_mode": {
    "name": "ipython",
    "version": 3
   },
   "file_extension": ".py",
   "mimetype": "text/x-python",
   "name": "python",
   "nbconvert_exporter": "python",
   "pygments_lexer": "ipython3",
   "version": "3.9.13"
  }
 },
 "nbformat": 4,
 "nbformat_minor": 5
}
